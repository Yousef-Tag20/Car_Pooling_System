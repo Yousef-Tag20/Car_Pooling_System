{
 "cells": [
  {
   "cell_type": "code",
   "execution_count": 1,
   "id": "de4f3a45",
   "metadata": {
    "_cell_guid": "b1076dfc-b9ad-4769-8c92-a6c4dae69d19",
    "_uuid": "8f2839f25d086af736a60e9eeb907d3b93b6e0e5",
    "execution": {
     "iopub.execute_input": "2022-10-11T17:48:32.677549Z",
     "iopub.status.busy": "2022-10-11T17:48:32.676635Z",
     "iopub.status.idle": "2022-10-11T17:48:33.972448Z",
     "shell.execute_reply": "2022-10-11T17:48:33.971490Z"
    },
    "papermill": {
     "duration": 1.305955,
     "end_time": "2022-10-11T17:48:33.974929",
     "exception": false,
     "start_time": "2022-10-11T17:48:32.668974",
     "status": "completed"
    },
    "tags": []
   },
   "outputs": [],
   "source": [
    "import pandas as pd\n",
    "import seaborn as sb\n",
    "import matplotlib.pyplot as plt\n",
    "import numpy as np\n",
    "\n",
    "import missingno as msno\n",
    "from category_encoders.one_hot import OneHotEncoder\n",
    "from sklearn.preprocessing import MinMaxScaler, StandardScaler, RobustScaler\n",
    "from sklearn.model_selection import train_test_split\n",
    "from sklearn.pipeline import Pipeline\n",
    "from sklearn.impute import SimpleImputer\n",
    "from sklearn.compose import ColumnTransformer\n",
    "from sklearn.preprocessing import FunctionTransformer\n",
    "from sklearn.feature_selection import f_regression\n",
    "from sklearn.feature_selection import SelectKBest\n",
    "from sklearn.linear_model import LinearRegression \n",
    "\n",
    "#----------------------------------------------\n",
    "data=pd.read_csv(\"../input/house-prices-advanced-regression-techniques/train.csv\").iloc[:,:]\n",
    "X=data.iloc[:,:-1]\n",
    "Y=data['SalePrice']\n",
    "#-----------------------------------------\n",
    "X_train, X_test, Y_train, Y_test = train_test_split(X, Y, test_size=0.25,random_state=555,shuffle=True)\n",
    "#------------------------------------\n",
    "X_train=X_train.drop([\"Id\",\"Alley\",\"PoolQC\",'Fence','MiscFeature'],axis=1)\n",
    "X_test=X_test.drop([\"Id\",\"Alley\",\"PoolQC\",'Fence','MiscFeature'],axis=1)\n",
    "#-------------------------------------"
   ]
  },
  {
   "cell_type": "code",
   "execution_count": 2,
   "id": "c1bfe334",
   "metadata": {
    "execution": {
     "iopub.execute_input": "2022-10-11T17:48:33.985755Z",
     "iopub.status.busy": "2022-10-11T17:48:33.985444Z",
     "iopub.status.idle": "2022-10-11T17:48:34.012639Z",
     "shell.execute_reply": "2022-10-11T17:48:34.011673Z"
    },
    "papermill": {
     "duration": 0.035649,
     "end_time": "2022-10-11T17:48:34.015469",
     "exception": false,
     "start_time": "2022-10-11T17:48:33.979820",
     "status": "completed"
    },
    "tags": []
   },
   "outputs": [
    {
     "name": "stdout",
     "output_type": "stream",
     "text": [
      "['LotFrontage', 'MasVnrType', 'MasVnrArea', 'BsmtQual', 'BsmtCond', 'BsmtExposure', 'BsmtFinType1', 'BsmtFinType2', 'Electrical', 'FireplaceQu', 'GarageType', 'GarageYrBlt', 'GarageFinish', 'GarageQual', 'GarageCond']\n"
     ]
    }
   ],
   "source": [
    "columns_na=[column_name for column_name in X_train.columns if X_train[column_name].isnull().sum()>=1]\n",
    "print(columns_na)"
   ]
  },
  {
   "cell_type": "code",
   "execution_count": 3,
   "id": "0b4d146d",
   "metadata": {
    "execution": {
     "iopub.execute_input": "2022-10-11T17:48:34.026238Z",
     "iopub.status.busy": "2022-10-11T17:48:34.025389Z",
     "iopub.status.idle": "2022-10-11T17:48:34.033197Z",
     "shell.execute_reply": "2022-10-11T17:48:34.032301Z"
    },
    "papermill": {
     "duration": 0.015158,
     "end_time": "2022-10-11T17:48:34.035190",
     "exception": false,
     "start_time": "2022-10-11T17:48:34.020032",
     "status": "completed"
    },
    "tags": []
   },
   "outputs": [
    {
     "name": "stdout",
     "output_type": "stream",
     "text": [
      "['MSSubClass', 'LotFrontage', 'LotArea', 'OverallQual', 'OverallCond', 'YearBuilt', 'YearRemodAdd', 'MasVnrArea', 'BsmtFinSF1', 'BsmtFinSF2', 'BsmtUnfSF', 'TotalBsmtSF', '1stFlrSF', '2ndFlrSF', 'LowQualFinSF', 'GrLivArea', 'BsmtFullBath', 'BsmtHalfBath', 'FullBath', 'HalfBath', 'BedroomAbvGr', 'KitchenAbvGr', 'TotRmsAbvGrd', 'Fireplaces', 'GarageYrBlt', 'GarageCars', 'GarageArea', 'WoodDeckSF', 'OpenPorchSF', 'EnclosedPorch', '3SsnPorch', 'ScreenPorch', 'PoolArea', 'MiscVal', 'MoSold', 'YrSold']\n"
     ]
    }
   ],
   "source": [
    "num_columns=[column_name for column_name in X_train.columns if X_train[column_name].dtypes!='object']\n",
    "print(num_columns)"
   ]
  },
  {
   "cell_type": "code",
   "execution_count": 4,
   "id": "9937161d",
   "metadata": {
    "execution": {
     "iopub.execute_input": "2022-10-11T17:48:34.045958Z",
     "iopub.status.busy": "2022-10-11T17:48:34.045666Z",
     "iopub.status.idle": "2022-10-11T17:48:34.056710Z",
     "shell.execute_reply": "2022-10-11T17:48:34.055570Z"
    },
    "papermill": {
     "duration": 0.019276,
     "end_time": "2022-10-11T17:48:34.059455",
     "exception": false,
     "start_time": "2022-10-11T17:48:34.040179",
     "status": "completed"
    },
    "tags": []
   },
   "outputs": [
    {
     "name": "stdout",
     "output_type": "stream",
     "text": [
      "['MSSubClass', 'OverallQual', 'OverallCond', 'LowQualFinSF', 'BsmtFullBath', 'BsmtHalfBath', 'FullBath', 'HalfBath', 'BedroomAbvGr', 'KitchenAbvGr', 'TotRmsAbvGrd', 'Fireplaces', 'GarageCars', '3SsnPorch', 'PoolArea', 'MiscVal', 'MoSold', 'YrSold']\n"
     ]
    }
   ],
   "source": [
    "disc_columns=[column_name for column_name in num_columns if len(X_train[column_name].unique())<25]\n",
    "print(disc_columns)"
   ]
  },
  {
   "cell_type": "code",
   "execution_count": 5,
   "id": "783b24cf",
   "metadata": {
    "execution": {
     "iopub.execute_input": "2022-10-11T17:48:34.070275Z",
     "iopub.status.busy": "2022-10-11T17:48:34.070005Z",
     "iopub.status.idle": "2022-10-11T17:48:34.077303Z",
     "shell.execute_reply": "2022-10-11T17:48:34.076225Z"
    },
    "papermill": {
     "duration": 0.014466,
     "end_time": "2022-10-11T17:48:34.079101",
     "exception": false,
     "start_time": "2022-10-11T17:48:34.064635",
     "status": "completed"
    },
    "tags": []
   },
   "outputs": [
    {
     "name": "stdout",
     "output_type": "stream",
     "text": [
      "['YearBuilt', 'YearRemodAdd', 'GarageYrBlt', 'YrSold']\n"
     ]
    }
   ],
   "source": [
    "#Separando nome das variáveis do tipo ano/data:\n",
    "date_columns=[column_name for column_name in X_train.columns if 'Yr' in column_name or 'Year' in column_name]\n",
    "print(date_columns)"
   ]
  },
  {
   "cell_type": "code",
   "execution_count": 6,
   "id": "15a95050",
   "metadata": {
    "execution": {
     "iopub.execute_input": "2022-10-11T17:48:34.089599Z",
     "iopub.status.busy": "2022-10-11T17:48:34.089332Z",
     "iopub.status.idle": "2022-10-11T17:48:34.094732Z",
     "shell.execute_reply": "2022-10-11T17:48:34.093995Z"
    },
    "papermill": {
     "duration": 0.013454,
     "end_time": "2022-10-11T17:48:34.097412",
     "exception": false,
     "start_time": "2022-10-11T17:48:34.083958",
     "status": "completed"
    },
    "tags": []
   },
   "outputs": [
    {
     "name": "stdout",
     "output_type": "stream",
     "text": [
      "['MSZoning', 'Street', 'LotShape', 'LandContour', 'Utilities', 'LotConfig', 'LandSlope', 'Neighborhood', 'Condition1', 'Condition2', 'BldgType', 'HouseStyle', 'RoofStyle', 'RoofMatl', 'Exterior1st', 'Exterior2nd', 'MasVnrType', 'ExterQual', 'ExterCond', 'Foundation', 'BsmtQual', 'BsmtCond', 'BsmtExposure', 'BsmtFinType1', 'BsmtFinType2', 'Heating', 'HeatingQC', 'CentralAir', 'Electrical', 'KitchenQual', 'Functional', 'FireplaceQu', 'GarageType', 'GarageFinish', 'GarageQual', 'GarageCond', 'PavedDrive', 'SaleType', 'SaleCondition']\n"
     ]
    }
   ],
   "source": [
    "cat_columns=[column_name for column_name in X_train.columns if X_train[column_name].dtypes=='object']\n",
    "print(cat_columns)"
   ]
  },
  {
   "cell_type": "code",
   "execution_count": 7,
   "id": "af05e340",
   "metadata": {
    "execution": {
     "iopub.execute_input": "2022-10-11T17:48:34.108666Z",
     "iopub.status.busy": "2022-10-11T17:48:34.108392Z",
     "iopub.status.idle": "2022-10-11T17:48:34.119437Z",
     "shell.execute_reply": "2022-10-11T17:48:34.117663Z"
    },
    "papermill": {
     "duration": 0.019209,
     "end_time": "2022-10-11T17:48:34.122124",
     "exception": false,
     "start_time": "2022-10-11T17:48:34.102915",
     "status": "completed"
    },
    "tags": []
   },
   "outputs": [
    {
     "name": "stdout",
     "output_type": "stream",
     "text": [
      "A variável MSZoning tem 5 categorias.\n",
      "A variável Street tem 2 categorias.\n",
      "A variável LotShape tem 4 categorias.\n",
      "A variável LandContour tem 4 categorias.\n",
      "A variável Utilities tem 2 categorias.\n",
      "A variável LotConfig tem 5 categorias.\n",
      "A variável LandSlope tem 3 categorias.\n",
      "A variável Neighborhood tem 25 categorias.\n",
      "A variável Condition1 tem 9 categorias.\n",
      "A variável Condition2 tem 7 categorias.\n",
      "A variável BldgType tem 5 categorias.\n",
      "A variável HouseStyle tem 8 categorias.\n",
      "A variável RoofStyle tem 6 categorias.\n",
      "A variável RoofMatl tem 8 categorias.\n",
      "A variável Exterior1st tem 14 categorias.\n",
      "A variável Exterior2nd tem 16 categorias.\n",
      "A variável MasVnrType tem 5 categorias.\n",
      "A variável ExterQual tem 4 categorias.\n",
      "A variável ExterCond tem 5 categorias.\n",
      "A variável Foundation tem 6 categorias.\n",
      "A variável BsmtQual tem 5 categorias.\n",
      "A variável BsmtCond tem 5 categorias.\n",
      "A variável BsmtExposure tem 5 categorias.\n",
      "A variável BsmtFinType1 tem 7 categorias.\n",
      "A variável BsmtFinType2 tem 7 categorias.\n",
      "A variável Heating tem 6 categorias.\n",
      "A variável HeatingQC tem 5 categorias.\n",
      "A variável CentralAir tem 2 categorias.\n",
      "A variável Electrical tem 5 categorias.\n",
      "A variável KitchenQual tem 4 categorias.\n",
      "A variável Functional tem 7 categorias.\n",
      "A variável FireplaceQu tem 6 categorias.\n",
      "A variável GarageType tem 7 categorias.\n",
      "A variável GarageFinish tem 4 categorias.\n",
      "A variável GarageQual tem 6 categorias.\n",
      "A variável GarageCond tem 6 categorias.\n",
      "A variável PavedDrive tem 3 categorias.\n",
      "A variável SaleType tem 9 categorias.\n",
      "A variável SaleCondition tem 6 categorias.\n"
     ]
    }
   ],
   "source": [
    "for var in cat_columns:\n",
    "    print('A variável {} tem {} categorias.'.format(var, len(X_train[var].unique())))"
   ]
  },
  {
   "cell_type": "code",
   "execution_count": 8,
   "id": "b8909809",
   "metadata": {
    "execution": {
     "iopub.execute_input": "2022-10-11T17:48:34.133541Z",
     "iopub.status.busy": "2022-10-11T17:48:34.132760Z",
     "iopub.status.idle": "2022-10-11T17:48:34.215081Z",
     "shell.execute_reply": "2022-10-11T17:48:34.213882Z"
    },
    "papermill": {
     "duration": 0.09034,
     "end_time": "2022-10-11T17:48:34.217427",
     "exception": false,
     "start_time": "2022-10-11T17:48:34.127087",
     "status": "completed"
    },
    "tags": []
   },
   "outputs": [
    {
     "name": "stdout",
     "output_type": "stream",
     "text": [
      "                     SalePrice\n",
      "MSSubClass           -0.086819\n",
      "LotFrontage           0.363609\n",
      "LotArea               0.284436\n",
      "OverallQual           0.787676\n",
      "OverallCond          -0.081763\n",
      "YearBuilt             0.528779\n",
      "YearRemodAdd          0.500368\n",
      "MasVnrArea            0.497795\n",
      "BsmtFinSF1            0.390929\n",
      "BsmtFinSF2           -0.001599\n",
      "BsmtUnfSF             0.205105\n",
      "TotalBsmtSF           0.608627\n",
      "1stFlrSF              0.591768\n",
      "2ndFlrSF              0.337790\n",
      "LowQualFinSF         -0.060372\n",
      "GrLivArea             0.714881\n",
      "BsmtFullBath          0.234722\n",
      "BsmtHalfBath         -0.003853\n",
      "FullBath              0.546386\n",
      "HalfBath              0.270888\n",
      "BedroomAbvGr          0.176193\n",
      "KitchenAbvGr         -0.146797\n",
      "TotRmsAbvGrd          0.518974\n",
      "Fireplaces            0.464029\n",
      "GarageYrBlt           0.478454\n",
      "GarageCars            0.641186\n",
      "GarageArea            0.621933\n",
      "WoodDeckSF            0.362195\n",
      "OpenPorchSF           0.273129\n",
      "EnclosedPorch        -0.116308\n",
      "3SsnPorch             0.050298\n",
      "ScreenPorch           0.078095\n",
      "PoolArea              0.117212\n",
      "MiscVal              -0.021402\n",
      "MoSold                0.030348\n",
      "YrSold               -0.061461\n",
      "LotFrontage_nan       0.018132\n",
      "MasVnrType_nan        0.021714\n",
      "MasVnrArea_nan        0.021714\n",
      "BsmtQual_nan         -0.156873\n",
      "BsmtCond_nan         -0.156873\n",
      "BsmtExposure_nan     -0.156873\n",
      "BsmtFinType1_nan     -0.156873\n",
      "BsmtFinType2_nan     -0.156873\n",
      "Electrical_nan       -0.004913\n",
      "FireplaceQu_nan      -0.465008\n",
      "GarageType_nan       -0.231200\n",
      "GarageYrBlt_nan      -0.231200\n",
      "GarageFinish_nan     -0.231200\n",
      "GarageQual_nan       -0.231200\n",
      "GarageCond_nan       -0.231200\n",
      "YearBuilt_period     -0.530297\n",
      "YearRemodAdd_period  -0.504160\n",
      "GarageYrBlt_period   -0.480220\n",
      "SalePrice             1.000000\n"
     ]
    }
   ],
   "source": [
    "#Lidando com missing values:\n",
    "\n",
    "#Criando coluna extra para identificar missing values em cada variável:\n",
    "for var in columns_na:\n",
    "    X_train[var+'_nan']=np.where(X_train[var].isnull(), 1, 0)\n",
    "\n",
    "#Mesmo procedimento no dataset de teste:\n",
    "for var in columns_na:\n",
    "    X_test[var+'_nan']=np.where(X_test[var].isnull(), 1, 0)\n",
    "\n",
    "#Criando novas variáveis para as colunas com datas/anos:\n",
    "for var in date_columns:\n",
    "    X_train[var+'_period']=X_train['YrSold']-X_train[var]\n",
    "\n",
    "#Mesmo procedimento no dataset de teste:\n",
    "for var in date_columns:\n",
    "    X_test[var+'_period']=X_test['YrSold']-X_test[var]\n",
    "    \n",
    "#Eliminando coluna nula:\n",
    "X_train.drop('YrSold_period', axis=1, inplace=True)\n",
    "X_test.drop('YrSold_period', axis=1, inplace=True)\n",
    "\n",
    "#Inserindo as novas variáveis numéricas criadas na lista de nomes de variáveis numéricas:\n",
    "for feature in X_train.columns:\n",
    "    if 'period' in feature:\n",
    "        num_columns.append(feature)\n",
    "\n",
    "df_train=X_train.copy()\n",
    "df_train['SalePrice']=Y_train\n",
    "df_corr=df_train.copy()       \n",
    "price_corr=pd.DataFrame(df_corr.corr().loc['SalePrice'])\n",
    "print(price_corr)"
   ]
  },
  {
   "cell_type": "code",
   "execution_count": 9,
   "id": "62b7a064",
   "metadata": {
    "execution": {
     "iopub.execute_input": "2022-10-11T17:48:34.233839Z",
     "iopub.status.busy": "2022-10-11T17:48:34.233495Z",
     "iopub.status.idle": "2022-10-11T17:48:34.243024Z",
     "shell.execute_reply": "2022-10-11T17:48:34.241546Z"
    },
    "papermill": {
     "duration": 0.020356,
     "end_time": "2022-10-11T17:48:34.245834",
     "exception": false,
     "start_time": "2022-10-11T17:48:34.225478",
     "status": "completed"
    },
    "tags": []
   },
   "outputs": [
    {
     "name": "stdout",
     "output_type": "stream",
     "text": [
      "['MSSubClass', 'OverallCond', 'BsmtFinSF2', 'LowQualFinSF', 'BsmtHalfBath', '3SsnPorch', 'ScreenPorch', 'MiscVal', 'MoSold', 'YrSold', 'LotFrontage_nan', 'MasVnrType_nan', 'MasVnrArea_nan', 'Electrical_nan']\n"
     ]
    }
   ],
   "source": [
    "#Criando lista com o nome das features que possuem correlação com 'SalesPrice' menor do que 0,1:\n",
    "null_corr=[feature for feature in price_corr.index if abs(price_corr['SalePrice'].loc[feature])<0.1]\n",
    "print(null_corr)"
   ]
  },
  {
   "cell_type": "code",
   "execution_count": 10,
   "id": "da0e600c",
   "metadata": {
    "execution": {
     "iopub.execute_input": "2022-10-11T17:48:34.261820Z",
     "iopub.status.busy": "2022-10-11T17:48:34.261494Z",
     "iopub.status.idle": "2022-10-11T17:48:34.272917Z",
     "shell.execute_reply": "2022-10-11T17:48:34.272078Z"
    },
    "papermill": {
     "duration": 0.021786,
     "end_time": "2022-10-11T17:48:34.274902",
     "exception": false,
     "start_time": "2022-10-11T17:48:34.253116",
     "status": "completed"
    },
    "tags": []
   },
   "outputs": [],
   "source": [
    "#Deletando variáveis com correlação nula do dataset:\n",
    "df_corr.drop(null_corr, axis=1, inplace=True)"
   ]
  },
  {
   "cell_type": "code",
   "execution_count": 11,
   "id": "0b3f9d6f",
   "metadata": {
    "execution": {
     "iopub.execute_input": "2022-10-11T17:48:34.286125Z",
     "iopub.status.busy": "2022-10-11T17:48:34.285346Z",
     "iopub.status.idle": "2022-10-11T17:48:35.333031Z",
     "shell.execute_reply": "2022-10-11T17:48:35.332107Z"
    },
    "papermill": {
     "duration": 1.056141,
     "end_time": "2022-10-11T17:48:35.335911",
     "exception": false,
     "start_time": "2022-10-11T17:48:34.279770",
     "status": "completed"
    },
    "tags": []
   },
   "outputs": [
    {
     "data": {
      "text/plain": [
       "<AxesSubplot:>"
      ]
     },
     "execution_count": 11,
     "metadata": {},
     "output_type": "execute_result"
    },
    {
     "data": {
      "image/png": "[encoded data removed]",
      "text/plain": [
       "<Figure size 1080x576 with 2 Axes>"
      ]
     },
     "metadata": {},
     "output_type": "display_data"
    }
   ],
   "source": [
    "#Plotando mapa de calor a partir da matriz de correlações:\n",
    "sb.set(rc = {'figure.figsize':(15,8)})\n",
    "sb.heatmap(df_corr.corr(), vmin=-1, vmax=1, center=0, cmap='coolwarm')"
   ]
  },
  {
   "cell_type": "code",
   "execution_count": 12,
   "id": "ca075b2f",
   "metadata": {
    "execution": {
     "iopub.execute_input": "2022-10-11T17:48:35.350561Z",
     "iopub.status.busy": "2022-10-11T17:48:35.350262Z",
     "iopub.status.idle": "2022-10-11T17:48:35.356139Z",
     "shell.execute_reply": "2022-10-11T17:48:35.355235Z"
    },
    "papermill": {
     "duration": 0.014767,
     "end_time": "2022-10-11T17:48:35.357959",
     "exception": false,
     "start_time": "2022-10-11T17:48:35.343192",
     "status": "completed"
    },
    "tags": []
   },
   "outputs": [],
   "source": [
    "#def log_transform(x):\n",
    "    #logx=np.log(x)\n",
    "    #return logx\n",
    "\n",
    "#log_transformer=FunctionTransformer(log_transform)\n",
    "scaler=MinMaxScaler()\n",
    "num_imputer=SimpleImputer(strategy='median')\n",
    "cat_imputer=SimpleImputer(strategy='most_frequent')\n",
    "ohe=OneHotEncoder()\n",
    "\n",
    "numeric_transformer=Pipeline(steps=[('num_imputer', num_imputer), ('scaler', scaler)])\n",
    "categoric_transformer=Pipeline(steps=[('cat_imputer', cat_imputer), ('encoding', ohe)])\n",
    "\n",
    "preprocessing=ColumnTransformer(transformers=[('num', numeric_transformer, num_columns), ('cat', categoric_transformer, cat_columns)], remainder='passthrough')"
   ]
  },
  {
   "cell_type": "code",
   "execution_count": 13,
   "id": "d0207f8a",
   "metadata": {
    "execution": {
     "iopub.execute_input": "2022-10-11T17:48:35.371648Z",
     "iopub.status.busy": "2022-10-11T17:48:35.370815Z",
     "iopub.status.idle": "2022-10-11T17:48:35.376041Z",
     "shell.execute_reply": "2022-10-11T17:48:35.375238Z"
    },
    "papermill": {
     "duration": 0.014074,
     "end_time": "2022-10-11T17:48:35.378041",
     "exception": false,
     "start_time": "2022-10-11T17:48:35.363967",
     "status": "completed"
    },
    "tags": []
   },
   "outputs": [],
   "source": [
    "regressor=LinearRegression()\n",
    "feature_selector=SelectKBest(k=40, score_func=f_regression)\n",
    "model=Pipeline(steps=[('preprocessing', preprocessing), ('feature selector', feature_selector), ('regressor', regressor)])"
   ]
  },
  {
   "cell_type": "code",
   "execution_count": 14,
   "id": "3aac030f",
   "metadata": {
    "execution": {
     "iopub.execute_input": "2022-10-11T17:48:35.391057Z",
     "iopub.status.busy": "2022-10-11T17:48:35.390807Z",
     "iopub.status.idle": "2022-10-11T17:48:36.042451Z",
     "shell.execute_reply": "2022-10-11T17:48:36.041392Z"
    },
    "papermill": {
     "duration": 0.661328,
     "end_time": "2022-10-11T17:48:36.045362",
     "exception": false,
     "start_time": "2022-10-11T17:48:35.384034",
     "status": "completed"
    },
    "tags": []
   },
   "outputs": [
    {
     "data": {
      "text/plain": [
       "Pipeline(steps=[('preprocessing',\n",
       "                 ColumnTransformer(remainder='passthrough',\n",
       "                                   transformers=[('num',\n",
       "                                                  Pipeline(steps=[('num_imputer',\n",
       "                                                                   SimpleImputer(strategy='median')),\n",
       "                                                                  ('scaler',\n",
       "                                                                   MinMaxScaler())]),\n",
       "                                                  ['MSSubClass', 'LotFrontage',\n",
       "                                                   'LotArea', 'OverallQual',\n",
       "                                                   'OverallCond', 'YearBuilt',\n",
       "                                                   'YearRemodAdd', 'MasVnrArea',\n",
       "                                                   'BsmtFinSF1', 'BsmtFinSF2',\n",
       "                                                   'BsmtUnfSF', 'TotalBsmtSF',\n",
       "                                                   '1s...\n",
       "                                                   'RoofStyle', 'RoofMatl',\n",
       "                                                   'Exterior1st', 'Exterior2nd',\n",
       "                                                   'MasVnrType', 'ExterQual',\n",
       "                                                   'ExterCond', 'Foundation',\n",
       "                                                   'BsmtQual', 'BsmtCond',\n",
       "                                                   'BsmtExposure',\n",
       "                                                   'BsmtFinType1',\n",
       "                                                   'BsmtFinType2', 'Heating',\n",
       "                                                   'HeatingQC', 'CentralAir',\n",
       "                                                   'Electrical', 'KitchenQual', ...])])),\n",
       "                ('feature selector',\n",
       "                 SelectKBest(k=40,\n",
       "                             score_func=<function f_regression at 0x7fef8afe6cb0>)),\n",
       "                ('regressor', LinearRegression())])"
      ]
     },
     "execution_count": 14,
     "metadata": {},
     "output_type": "execute_result"
    }
   ],
   "source": [
    "model.fit(X_train, Y_train)"
   ]
  },
  {
   "cell_type": "code",
   "execution_count": 15,
   "id": "d1219caa",
   "metadata": {
    "execution": {
     "iopub.execute_input": "2022-10-11T17:48:36.069860Z",
     "iopub.status.busy": "2022-10-11T17:48:36.069521Z",
     "iopub.status.idle": "2022-10-11T17:48:36.230009Z",
     "shell.execute_reply": "2022-10-11T17:48:36.229165Z"
    },
    "papermill": {
     "duration": 0.175809,
     "end_time": "2022-10-11T17:48:36.233188",
     "exception": false,
     "start_time": "2022-10-11T17:48:36.057379",
     "status": "completed"
    },
    "tags": []
   },
   "outputs": [],
   "source": [
    "prediction=model.predict(X_test)\n"
   ]
  },
  {
   "cell_type": "code",
   "execution_count": 16,
   "id": "fbd6748c",
   "metadata": {
    "execution": {
     "iopub.execute_input": "2022-10-11T17:48:36.294538Z",
     "iopub.status.busy": "2022-10-11T17:48:36.294073Z",
     "iopub.status.idle": "2022-10-11T17:48:36.478874Z",
     "shell.execute_reply": "2022-10-11T17:48:36.477844Z"
    },
    "papermill": {
     "duration": 0.227604,
     "end_time": "2022-10-11T17:48:36.483908",
     "exception": false,
     "start_time": "2022-10-11T17:48:36.256304",
     "status": "completed"
    },
    "tags": []
   },
   "outputs": [
    {
     "data": {
      "text/plain": [
       "0.8125652015432409"
      ]
     },
     "execution_count": 16,
     "metadata": {},
     "output_type": "execute_result"
    }
   ],
   "source": [
    "model.score(X_test, Y_test)"
   ]
  },
  {
   "cell_type": "code",
   "execution_count": null,
   "id": "6c907c6b",
   "metadata": {
    "papermill": {
     "duration": 0.041664,
     "end_time": "2022-10-11T17:48:36.555678",
     "exception": false,
     "start_time": "2022-10-11T17:48:36.514014",
     "status": "completed"
    },
    "tags": []
   },
   "outputs": [],
   "source": []
  },
  {
   "cell_type": "code",
   "execution_count": 17,
   "id": "ab5a8110",
   "metadata": {
    "execution": {
     "iopub.execute_input": "2022-10-11T17:48:36.598301Z",
     "iopub.status.busy": "2022-10-11T17:48:36.597404Z",
     "iopub.status.idle": "2022-10-11T17:48:36.786277Z",
     "shell.execute_reply": "2022-10-11T17:48:36.784938Z"
    },
    "papermill": {
     "duration": 0.210352,
     "end_time": "2022-10-11T17:48:36.789935",
     "exception": false,
     "start_time": "2022-10-11T17:48:36.579583",
     "status": "completed"
    },
    "tags": []
   },
   "outputs": [],
   "source": [
    "X_test=pd.read_csv(\"../input/house-prices-advanced-regression-techniques/test.csv\").iloc[:,:]\n",
    "X_test=X_test.drop([\"Id\",\"Alley\",\"PoolQC\",'Fence','MiscFeature'],axis=1)\n",
    "#Mesmo procedimento no dataset de teste:\n",
    "for var in columns_na:\n",
    "    X_test[var+'_nan']=np.where(X_test[var].isnull(), 1, 0)\n",
    "\n",
    "\n",
    "#Mesmo procedimento no dataset de teste:\n",
    "for var in date_columns:\n",
    "    X_test[var+'_period']=X_test['YrSold']-X_test[var]\n",
    "\n",
    "X_test.drop('YrSold_period', axis=1, inplace=True)\n",
    "\n",
    "y_pred=model.predict(X_test)\n",
    "\n"
   ]
  },
  {
   "cell_type": "code",
   "execution_count": 18,
   "id": "3b1b4a1b",
   "metadata": {
    "execution": {
     "iopub.execute_input": "2022-10-11T17:48:36.824339Z",
     "iopub.status.busy": "2022-10-11T17:48:36.823675Z",
     "iopub.status.idle": "2022-10-11T17:48:36.866407Z",
     "shell.execute_reply": "2022-10-11T17:48:36.864994Z"
    },
    "papermill": {
     "duration": 0.064085,
     "end_time": "2022-10-11T17:48:36.870327",
     "exception": false,
     "start_time": "2022-10-11T17:48:36.806242",
     "status": "completed"
    },
    "tags": []
   },
   "outputs": [
    {
     "name": "stdout",
     "output_type": "stream",
     "text": [
      "     Id         0\n",
      "0  1461  107088.0\n",
      "1  1462  156368.0\n",
      "2  1463  179840.0\n",
      "3  1464  193424.0\n",
      "4  1465  195520.0\n"
     ]
    }
   ],
   "source": [
    "y_pred=pd.DataFrame(y_pred)\n",
    "X_id=pd.read_csv(\"../input/house-prices-advanced-regression-techniques/test.csv\").iloc[:,0]\n",
    "final2=pd.concat([X_id,y_pred],axis=1)\n",
    "print(final2.head())"
   ]
  },
  {
   "cell_type": "code",
   "execution_count": 19,
   "id": "7ec5a38e",
   "metadata": {
    "execution": {
     "iopub.execute_input": "2022-10-11T17:48:36.905667Z",
     "iopub.status.busy": "2022-10-11T17:48:36.904918Z",
     "iopub.status.idle": "2022-10-11T17:48:36.920184Z",
     "shell.execute_reply": "2022-10-11T17:48:36.919256Z"
    },
    "papermill": {
     "duration": 0.034994,
     "end_time": "2022-10-11T17:48:36.922253",
     "exception": false,
     "start_time": "2022-10-11T17:48:36.887259",
     "status": "completed"
    },
    "tags": []
   },
   "outputs": [],
   "source": [
    "final2.to_csv(\"data12.csv\",index=False)"
   ]
  },
  {
   "cell_type": "code",
   "execution_count": 20,
   "id": "efa2af3e",
   "metadata": {
    "execution": {
     "iopub.execute_input": "2022-10-11T17:48:36.936663Z",
     "iopub.status.busy": "2022-10-11T17:48:36.935958Z",
     "iopub.status.idle": "2022-10-11T17:48:36.962254Z",
     "shell.execute_reply": "2022-10-11T17:48:36.961410Z"
    },
    "papermill": {
     "duration": 0.035559,
     "end_time": "2022-10-11T17:48:36.964434",
     "exception": false,
     "start_time": "2022-10-11T17:48:36.928875",
     "status": "completed"
    },
    "tags": []
   },
   "outputs": [],
   "source": [
    "data.to_csv(\"data1.csv\",index=False)"
   ]
  }
 ],
 "metadata": {
  "kernelspec": {
   "display_name": "Python 3",
   "language": "python",
   "name": "python3"
  },
  "language_info": {
   "codemirror_mode": {
    "name": "ipython",
    "version": 3
   },
   "file_extension": ".py",
   "mimetype": "text/x-python",
   "name": "python",
   "nbconvert_exporter": "python",
   "pygments_lexer": "ipython3",
   "version": "3.7.12"
  },
  "papermill": {
   "default_parameters": {},
   "duration": 12.389085,
   "end_time": "2022-10-11T17:48:37.591249",
   "environment_variables": {},
   "exception": null,
   "input_path": "__notebook__.ipynb",
   "output_path": "__notebook__.ipynb",
   "parameters": {},
   "start_time": "2022-10-11T17:48:25.202164",
   "version": "2.3.4"
  }
 },
 "nbformat": 4,
 "nbformat_minor": 5
}
